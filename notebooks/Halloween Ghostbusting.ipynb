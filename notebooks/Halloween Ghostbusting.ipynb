{
 "cells": [
  {
   "cell_type": "code",
   "execution_count": 32,
   "metadata": {
    "collapsed": true
   },
   "outputs": [],
   "source": [
    "import requests\n",
    "import pandas as pd\n",
    "from datetime import datetime\n",
    "URL = \"https://ghostbusterschi.glitch.me/data\""
   ]
  },
  {
   "cell_type": "code",
   "execution_count": 33,
   "metadata": {},
   "outputs": [
    {
     "data": {
      "text/plain": [
       "50"
      ]
     },
     "execution_count": 33,
     "metadata": {},
     "output_type": "execute_result"
    }
   ],
   "source": [
    "query = {\n",
    "    \"$limit\": 50\n",
    "}\n",
    "sample = requests.get(URL, params=query).json()\n",
    "len(sample)"
   ]
  },
  {
   "cell_type": "code",
   "execution_count": 34,
   "metadata": {},
   "outputs": [
    {
     "data": {
      "text/html": [
       "<div>\n",
       "<style>\n",
       "    .dataframe thead tr:only-child th {\n",
       "        text-align: right;\n",
       "    }\n",
       "\n",
       "    .dataframe thead th {\n",
       "        text-align: left;\n",
       "    }\n",
       "\n",
       "    .dataframe tbody tr th {\n",
       "        vertical-align: top;\n",
       "    }\n",
       "</style>\n",
       "<table border=\"1\" class=\"dataframe\">\n",
       "  <thead>\n",
       "    <tr style=\"text-align: right;\">\n",
       "      <th></th>\n",
       "      <th>community_area</th>\n",
       "      <th>completion_date</th>\n",
       "      <th>creation_date</th>\n",
       "      <th>current_activity</th>\n",
       "      <th>how_many_days_has_the_vehicle_been_reported_as_parked_</th>\n",
       "      <th>latitude</th>\n",
       "      <th>license_plate</th>\n",
       "      <th>location</th>\n",
       "      <th>longitude</th>\n",
       "      <th>most_recent_action</th>\n",
       "      <th>...</th>\n",
       "      <th>ssa</th>\n",
       "      <th>status</th>\n",
       "      <th>street_address</th>\n",
       "      <th>type_of_service_request</th>\n",
       "      <th>vehicle_color</th>\n",
       "      <th>vehicle_make_model</th>\n",
       "      <th>ward</th>\n",
       "      <th>x_coordinate</th>\n",
       "      <th>y_coordinate</th>\n",
       "      <th>zip_code</th>\n",
       "    </tr>\n",
       "  </thead>\n",
       "  <tbody>\n",
       "    <tr>\n",
       "      <th>0</th>\n",
       "      <td>7</td>\n",
       "      <td>2017-08-04T00:00:00.000</td>\n",
       "      <td>2017-06-30T00:00:00.000</td>\n",
       "      <td>Place 7 Day Sticker</td>\n",
       "      <td>20</td>\n",
       "      <td>41.91454959893707</td>\n",
       "      <td>S341927</td>\n",
       "      <td>{'type': 'Point', 'coordinates': [-87.64127602...</td>\n",
       "      <td>-87.64127602844653</td>\n",
       "      <td>Inspected and 7 day sticker applied to vehicle</td>\n",
       "      <td>...</td>\n",
       "      <td>NaN</td>\n",
       "      <td>Completed</td>\n",
       "      <td>503 W MENOMONEE ST</td>\n",
       "      <td>Abandoned Vehicle Complaint</td>\n",
       "      <td>Black</td>\n",
       "      <td>Mazda</td>\n",
       "      <td>43</td>\n",
       "      <td>1172618.20956831</td>\n",
       "      <td>1912251.8167839</td>\n",
       "      <td>60614</td>\n",
       "    </tr>\n",
       "    <tr>\n",
       "      <th>1</th>\n",
       "      <td>66</td>\n",
       "      <td>2017-08-04T00:00:00.000</td>\n",
       "      <td>2017-07-21T00:00:00.000</td>\n",
       "      <td>Place 7 Day Sticker</td>\n",
       "      <td>12</td>\n",
       "      <td>41.76003275473601</td>\n",
       "      <td>353T018</td>\n",
       "      <td>{'type': 'Point', 'coordinates': [-87.68448579...</td>\n",
       "      <td>-87.68448579833664</td>\n",
       "      <td>Inspected and 7 day sticker applied to vehicle</td>\n",
       "      <td>...</td>\n",
       "      <td>14</td>\n",
       "      <td>Completed</td>\n",
       "      <td>7332 S ARTESIAN AVE</td>\n",
       "      <td>Abandoned Vehicle Complaint</td>\n",
       "      <td>Brown</td>\n",
       "      <td>Saab</td>\n",
       "      <td>18</td>\n",
       "      <td>1161312.14917611</td>\n",
       "      <td>1855964.0908773</td>\n",
       "      <td>60629</td>\n",
       "    </tr>\n",
       "    <tr>\n",
       "      <th>2</th>\n",
       "      <td>2</td>\n",
       "      <td>2017-08-04T00:00:00.000</td>\n",
       "      <td>2017-08-03T00:00:00.000</td>\n",
       "      <td>NaN</td>\n",
       "      <td>30</td>\n",
       "      <td>42.0073172627381</td>\n",
       "      <td>Q205423</td>\n",
       "      <td>{'type': 'Point', 'coordinates': [-87.68614241...</td>\n",
       "      <td>-87.68614241777166</td>\n",
       "      <td>NaN</td>\n",
       "      <td>...</td>\n",
       "      <td>NaN</td>\n",
       "      <td>Completed - Dup</td>\n",
       "      <td>6932 N BELL AVE</td>\n",
       "      <td>Abandoned Vehicle Complaint</td>\n",
       "      <td>Red</td>\n",
       "      <td>Ford</td>\n",
       "      <td>50</td>\n",
       "      <td>1160190.05299807</td>\n",
       "      <td>1945895.19638419</td>\n",
       "      <td>60645</td>\n",
       "    </tr>\n",
       "    <tr>\n",
       "      <th>3</th>\n",
       "      <td>71</td>\n",
       "      <td>2017-08-04T00:00:00.000</td>\n",
       "      <td>2017-07-05T00:00:00.000</td>\n",
       "      <td>Place 7 Day Sticker</td>\n",
       "      <td>30</td>\n",
       "      <td>41.741035774278195</td>\n",
       "      <td>Z828919</td>\n",
       "      <td>{'type': 'Point', 'coordinates': [-87.64847709...</td>\n",
       "      <td>-87.64847709897579</td>\n",
       "      <td>Inspected and 7 day sticker applied to vehicle</td>\n",
       "      <td>...</td>\n",
       "      <td>NaN</td>\n",
       "      <td>Completed</td>\n",
       "      <td>8413 S MORGAN ST</td>\n",
       "      <td>Abandoned Vehicle Complaint</td>\n",
       "      <td>Gray</td>\n",
       "      <td>Mitsubishi</td>\n",
       "      <td>21</td>\n",
       "      <td>1171113.96209717</td>\n",
       "      <td>1849036.76917635</td>\n",
       "      <td>60620</td>\n",
       "    </tr>\n",
       "    <tr>\n",
       "      <th>4</th>\n",
       "      <td>38</td>\n",
       "      <td>2017-08-04T00:00:00.000</td>\n",
       "      <td>2017-07-27T00:00:00.000</td>\n",
       "      <td>FVI - Outcome</td>\n",
       "      <td>20</td>\n",
       "      <td>41.818084031484126</td>\n",
       "      <td>2N842</td>\n",
       "      <td>{'type': 'Point', 'coordinates': [-87.62321527...</td>\n",
       "      <td>-87.62321527082305</td>\n",
       "      <td>Return to Owner - Vehicle</td>\n",
       "      <td>...</td>\n",
       "      <td>NaN</td>\n",
       "      <td>Completed</td>\n",
       "      <td>4206 S MICHIGAN AVE</td>\n",
       "      <td>Abandoned Vehicle Complaint</td>\n",
       "      <td>Silver</td>\n",
       "      <td>Land Rover</td>\n",
       "      <td>3</td>\n",
       "      <td>1177856.74582322</td>\n",
       "      <td>1877155.26779199</td>\n",
       "      <td>60653</td>\n",
       "    </tr>\n",
       "  </tbody>\n",
       "</table>\n",
       "<p>5 rows × 22 columns</p>\n",
       "</div>"
      ],
      "text/plain": [
       "  community_area          completion_date            creation_date  \\\n",
       "0              7  2017-08-04T00:00:00.000  2017-06-30T00:00:00.000   \n",
       "1             66  2017-08-04T00:00:00.000  2017-07-21T00:00:00.000   \n",
       "2              2  2017-08-04T00:00:00.000  2017-08-03T00:00:00.000   \n",
       "3             71  2017-08-04T00:00:00.000  2017-07-05T00:00:00.000   \n",
       "4             38  2017-08-04T00:00:00.000  2017-07-27T00:00:00.000   \n",
       "\n",
       "      current_activity how_many_days_has_the_vehicle_been_reported_as_parked_  \\\n",
       "0  Place 7 Day Sticker                                                 20       \n",
       "1  Place 7 Day Sticker                                                 12       \n",
       "2                  NaN                                                 30       \n",
       "3  Place 7 Day Sticker                                                 30       \n",
       "4        FVI - Outcome                                                 20       \n",
       "\n",
       "             latitude license_plate  \\\n",
       "0   41.91454959893707       S341927   \n",
       "1   41.76003275473601       353T018   \n",
       "2    42.0073172627381       Q205423   \n",
       "3  41.741035774278195       Z828919   \n",
       "4  41.818084031484126         2N842   \n",
       "\n",
       "                                            location           longitude  \\\n",
       "0  {'type': 'Point', 'coordinates': [-87.64127602...  -87.64127602844653   \n",
       "1  {'type': 'Point', 'coordinates': [-87.68448579...  -87.68448579833664   \n",
       "2  {'type': 'Point', 'coordinates': [-87.68614241...  -87.68614241777166   \n",
       "3  {'type': 'Point', 'coordinates': [-87.64847709...  -87.64847709897579   \n",
       "4  {'type': 'Point', 'coordinates': [-87.62321527...  -87.62321527082305   \n",
       "\n",
       "                               most_recent_action   ...     ssa  \\\n",
       "0  Inspected and 7 day sticker applied to vehicle   ...     NaN   \n",
       "1  Inspected and 7 day sticker applied to vehicle   ...      14   \n",
       "2                                             NaN   ...     NaN   \n",
       "3  Inspected and 7 day sticker applied to vehicle   ...     NaN   \n",
       "4                       Return to Owner - Vehicle   ...     NaN   \n",
       "\n",
       "            status       street_address      type_of_service_request  \\\n",
       "0        Completed   503 W MENOMONEE ST  Abandoned Vehicle Complaint   \n",
       "1        Completed  7332 S ARTESIAN AVE  Abandoned Vehicle Complaint   \n",
       "2  Completed - Dup      6932 N BELL AVE  Abandoned Vehicle Complaint   \n",
       "3        Completed     8413 S MORGAN ST  Abandoned Vehicle Complaint   \n",
       "4        Completed  4206 S MICHIGAN AVE  Abandoned Vehicle Complaint   \n",
       "\n",
       "  vehicle_color vehicle_make_model ward      x_coordinate      y_coordinate  \\\n",
       "0         Black              Mazda   43  1172618.20956831   1912251.8167839   \n",
       "1         Brown               Saab   18  1161312.14917611   1855964.0908773   \n",
       "2           Red               Ford   50  1160190.05299807  1945895.19638419   \n",
       "3          Gray         Mitsubishi   21  1171113.96209717  1849036.76917635   \n",
       "4        Silver         Land Rover    3  1177856.74582322  1877155.26779199   \n",
       "\n",
       "  zip_code  \n",
       "0    60614  \n",
       "1    60629  \n",
       "2    60645  \n",
       "3    60620  \n",
       "4    60653  \n",
       "\n",
       "[5 rows x 22 columns]"
      ]
     },
     "execution_count": 34,
     "metadata": {},
     "output_type": "execute_result"
    }
   ],
   "source": [
    "df = pd.DataFrame(sample)\n",
    "df.head(5)"
   ]
  },
  {
   "cell_type": "code",
   "execution_count": 35,
   "metadata": {},
   "outputs": [
    {
     "data": {
      "text/html": [
       "<div>\n",
       "<style>\n",
       "    .dataframe thead tr:only-child th {\n",
       "        text-align: right;\n",
       "    }\n",
       "\n",
       "    .dataframe thead th {\n",
       "        text-align: left;\n",
       "    }\n",
       "\n",
       "    .dataframe tbody tr th {\n",
       "        vertical-align: top;\n",
       "    }\n",
       "</style>\n",
       "<table border=\"1\" class=\"dataframe\">\n",
       "  <thead>\n",
       "    <tr style=\"text-align: right;\">\n",
       "      <th></th>\n",
       "      <th>how_many_days_has_the_vehicle_been_reported_as_parked_</th>\n",
       "    </tr>\n",
       "  </thead>\n",
       "  <tbody>\n",
       "    <tr>\n",
       "      <th>count</th>\n",
       "      <td>38</td>\n",
       "    </tr>\n",
       "    <tr>\n",
       "      <th>unique</th>\n",
       "      <td>17</td>\n",
       "    </tr>\n",
       "    <tr>\n",
       "      <th>top</th>\n",
       "      <td>20</td>\n",
       "    </tr>\n",
       "    <tr>\n",
       "      <th>freq</th>\n",
       "      <td>9</td>\n",
       "    </tr>\n",
       "  </tbody>\n",
       "</table>\n",
       "</div>"
      ],
      "text/plain": [
       "       how_many_days_has_the_vehicle_been_reported_as_parked_\n",
       "count                                                  38    \n",
       "unique                                                 17    \n",
       "top                                                    20    \n",
       "freq                                                    9    "
      ]
     },
     "execution_count": 35,
     "metadata": {},
     "output_type": "execute_result"
    }
   ],
   "source": [
    "df.iloc[:, [4]].describe()"
   ]
  },
  {
   "cell_type": "code",
   "execution_count": 36,
   "metadata": {},
   "outputs": [],
   "source": [
    "from mpl_toolkits.basemap import Basemap\n",
    "import matplotlib.pyplot as plt\n",
    "import numpy as np\n",
    "# https://matplotlib.org/basemap/api/basemap_api.html"
   ]
  },
  {
   "cell_type": "code",
   "execution_count": 37,
   "metadata": {},
   "outputs": [
    {
     "name": "stderr",
     "output_type": "stream",
     "text": [
      "/anaconda/lib/python3.6/site-packages/mpl_toolkits/basemap/__init__.py:1708: MatplotlibDeprecationWarning: The axesPatch function was deprecated in version 2.1. Use Axes.patch instead.\n",
      "  limb = ax.axesPatch\n",
      "/anaconda/lib/python3.6/site-packages/mpl_toolkits/basemap/__init__.py:1711: MatplotlibDeprecationWarning: The axesPatch function was deprecated in version 2.1. Use Axes.patch instead.\n",
      "  if limb is not ax.axesPatch:\n"
     ]
    },
    {
     "data": {
      "image/png": "[encoded data removed]",
      "text/plain": [
       "<matplotlib.figure.Figure at 0x111017c88>"
      ]
     },
     "metadata": {},
     "output_type": "display_data"
    }
   ],
   "source": [
    "my_map = Basemap(projection='lcc', lat_0=41.835703, lon_0=-87.62838745,\n",
    "    resolution = 'l', area_thresh = 0.1,\n",
    "    width=500, height=500)\n",
    " \n",
    "my_map.drawcoastlines()\n",
    "my_map.drawcountries()\n",
    "my_map.fillcontinents(color = 'coral')\n",
    "my_map.drawmapboundary()\n",
    " \n",
    "lons = [-135.3318, -134.8331, -134.6572]\n",
    "lats = [57.0799, 57.0894, 56.2399]\n",
    "x,y = my_map(lons, lats)\n",
    "my_map.plot(x, y, 'bo', markersize=10)\n",
    " \n",
    "'''labels = ['Sitka', 'Baranof\\n  Warm Springs', 'Port Alexander']\n",
    "x_offsets = [10000, -20000, -25000]\n",
    "y_offsets = [5000, -50000, -35000]\n",
    "\n",
    "for label, xpt, ypt, x_offset, y_offset in zip(labels, x, y, x_offsets, y_offsets):\n",
    "    plt.text(xpt+x_offset, ypt+y_offset, label)'''\n",
    " \n",
    "plt.show()"
   ]
  },
  {
   "cell_type": "code",
   "execution_count": 41,
   "metadata": {},
   "outputs": [
    {
     "data": {
      "text/html": [
       "<div>\n",
       "<style>\n",
       "    .dataframe thead tr:only-child th {\n",
       "        text-align: right;\n",
       "    }\n",
       "\n",
       "    .dataframe thead th {\n",
       "        text-align: left;\n",
       "    }\n",
       "\n",
       "    .dataframe tbody tr th {\n",
       "        vertical-align: top;\n",
       "    }\n",
       "</style>\n",
       "<table border=\"1\" class=\"dataframe\">\n",
       "  <thead>\n",
       "    <tr style=\"text-align: right;\">\n",
       "      <th></th>\n",
       "      <th>latitude</th>\n",
       "      <th>longitude</th>\n",
       "    </tr>\n",
       "  </thead>\n",
       "  <tbody>\n",
       "    <tr>\n",
       "      <th>0</th>\n",
       "      <td>41.833540242537715</td>\n",
       "      <td>-87.62316170469188</td>\n",
       "    </tr>\n",
       "    <tr>\n",
       "      <th>1</th>\n",
       "      <td>41.83410402846557</td>\n",
       "      <td>-87.62317152282372</td>\n",
       "    </tr>\n",
       "    <tr>\n",
       "      <th>2</th>\n",
       "      <td>41.83459161085947</td>\n",
       "      <td>-87.6234135906318</td>\n",
       "    </tr>\n",
       "  </tbody>\n",
       "</table>\n",
       "</div>"
      ],
      "text/plain": [
       "             latitude           longitude\n",
       "0  41.833540242537715  -87.62316170469188\n",
       "1   41.83410402846557  -87.62317152282372\n",
       "2   41.83459161085947   -87.6234135906318"
      ]
     },
     "execution_count": 41,
     "metadata": {},
     "output_type": "execute_result"
    }
   ],
   "source": [
    "near = requests.get(URL, params={\n",
    "    \"$select\": \"latitude, longitude\",\n",
    "    \"$where\": \"within_circle(location, 41.835703, -87.628387, 500)\",\n",
    "    \"$limit\": 10\n",
    "}).json()\n",
    "pd.DataFrame(near).head(3)"
   ]
  },
  {
   "cell_type": "code",
   "execution_count": 55,
   "metadata": {},
   "outputs": [
    {
     "name": "stderr",
     "output_type": "stream",
     "text": [
      "/anaconda/lib/python3.6/site-packages/mpl_toolkits/basemap/__init__.py:1708: MatplotlibDeprecationWarning: The axesPatch function was deprecated in version 2.1. Use Axes.patch instead.\n",
      "  limb = ax.axesPatch\n",
      "/anaconda/lib/python3.6/site-packages/mpl_toolkits/basemap/__init__.py:1711: MatplotlibDeprecationWarning: The axesPatch function was deprecated in version 2.1. Use Axes.patch instead.\n",
      "  if limb is not ax.axesPatch:\n"
     ]
    },
    {
     "data": {
      "image/png": "[encoded data removed]",
      "text/plain": [
       "<matplotlib.figure.Figure at 0x11168cbe0>"
      ]
     },
     "metadata": {},
     "output_type": "display_data"
    }
   ],
   "source": [
    "# setup Lambert Conformal basemap.\n",
    "m = Basemap(lat_0=41.835703, lon_0=-87.62838745,\n",
    "            width=1500, height=1500,\n",
    "            projection='lcc', resolution='c')\n",
    "\n",
    "m.drawcoastlines()\n",
    "m.drawmapboundary(fill_color='aqua')\n",
    "m.fillcontinents(color='gray',lake_color='aqua')\n",
    "\n",
    "lats = [41.83546849399555, 41.83940226509764, 41.83459161085947]\n",
    "lons = [-87.62522629211682, -87.62951600008769, -87.6234135906318]\n",
    "\n",
    "x,y = m(lons, lats)\n",
    "m.plot(x, y, 'bo', markersize=10)\n",
    " \n",
    "labels = ['C1', 'C2', 'C3']\n",
    "x_offset = 50\n",
    "y_offset = -10\n",
    "\n",
    "for label, xpt, ypt in zip(labels, x, y):\n",
    "    plt.text(xpt+x_offset, ypt+y_offset, label)\n",
    "\n",
    "plt.show()"
   ]
  },
  {
   "cell_type": "code",
   "execution_count": null,
   "metadata": {
    "collapsed": true
   },
   "outputs": [],
   "source": []
  },
  {
   "cell_type": "code",
   "execution_count": null,
   "metadata": {
    "collapsed": true
   },
   "outputs": [],
   "source": []
  }
 ],
 "metadata": {
  "kernelspec": {
   "display_name": "Python 3",
   "language": "python",
   "name": "python3"
  },
  "language_info": {
   "codemirror_mode": {
    "name": "ipython",
    "version": 3
   },
   "file_extension": ".py",
   "mimetype": "text/x-python",
   "name": "python",
   "nbconvert_exporter": "python",
   "pygments_lexer": "ipython3",
   "version": "3.6.1"
  }
 },
 "nbformat": 4,
 "nbformat_minor": 2
}
